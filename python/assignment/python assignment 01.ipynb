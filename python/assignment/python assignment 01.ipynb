{
 "cells": [
  {
   "cell_type": "markdown",
   "id": "ccf474e7",
   "metadata": {},
   "source": [
    "# data-hub:\n",
    "\n",
    "*   [Website](https://data-hub.ir/)\n",
    "*   [Youtube](https://www.youtube.com/channel/UCrBcbQWcD0ortWqHAlP94ug)\n",
    "*   [Github](https://github.com/datahub-ir)\n",
    "*   [Linkedin](https://www.linkedin.com/company/data-hub-ir)\n",
    "*   Telegram Channel: @**data_hub_ir**\n",
    "*   Instagram Page: @**data_hub_ir**\n",
    "*   Telegram Group:    @**data_jobs**"
   ]
  },
  {
   "cell_type": "markdown",
   "id": "0e12574a",
   "metadata": {},
   "source": [
    "<div id=\"section1\"   dir='rtl'>\n",
    "    <h3>\n",
    "تمرین جلسه اول دوره پایتون    </h3>\n",
    "<p dir='rtl'>\n",
    "    \n",
    "    1. معمولا سؤالات از آسان به سخت و اغلب تحلیلی است.  \n",
    "\n",
    "    \n",
    "    2. در حد امکان لطفاً برای حل سؤالات از اینترنت (کپی و پیست) استفاده نکنید، لطفاً از دیگران کمک نگیرید.\n",
    "\n",
    "    \n",
    "    3. حل ناقص یک سؤال برای ما ارزش بیشتری نسبت به تکمیل سؤال به کمک دیگران دارد. هدف یادگیری است و بحث نمره مطرح نیست.\n",
    "\n",
    "    \n",
    "    4. مهم‌ترین قسمت حل سؤالات تمرکز و توجه به راه‌حل مسئله و پیداکردن بهینه‌ترین روش است نه قسمت کدنویسی آن.\n",
    "\n",
    "    \n",
    "    5. انجام تکالیف ضروری است ولی فعلاً نیازی به ارسال جواب‌ها نیست. در آخر دوره کارآموزی و پس از اتمام پروژه نهایی، باید تمامی فایل‌های مربوط به تکالیف و پروژه را برایمان ارسال کنید.\n",
    "\n",
    "    \n",
    "    6. در جلسه آنلاین به‌صورت تصادفی بعضی از سؤالات تمرین ممکن است پرسیده شود پس بادقت به حل آن بپردازید.\n",
    "\n",
    "    \n",
    "    7. از الان تلاش کنید مرتب کدنویسی کنید. اسامی متغیرها را معنادار انتخاب کنید. تمیزی کد شما، نشان از حرفه‌ای بودن شماست.\n",
    "\n",
    "    \n",
    "    8. تحت هیچ شرایط جواب خود را برای دیگران ارسال نکنید.\n",
    "\n",
    "    \n",
    "    9. در صورت ناتوانی از حل هر سؤال و قبل از پرسش از دیگران، لطفاً به ویدئو همان جلسه مراجعه کنید و مطالب را مرور کنید.\n",
    "\n",
    "    \n",
    "    10. در صورت وجود ابهام یا سؤال در مورد هر قسمت لطفاً به فروم وب‌سایت  مراجعه کنید و در انجمن مربوطه، سؤالات خود را مطرح کنید.\n",
    "    \n",
    "</p>\n",
    "</div>\n",
    "\n",
    "https://data-hub.ir/community"
   ]
  },
  {
   "cell_type": "markdown",
   "id": "e716d0fa",
   "metadata": {},
   "source": [
    "<div id=\"section1\" dir='rtl'>\n",
    "   تمرین اول: دریافت سه عدد صحیح از کاربر و سپس چاپ بزرگترین و کوچکترین عدد.\n",
    "\n",
    "    توجه: کاربر اجازه وارد کردن چیزی جز عدد را نداشته باشد\n",
    "</div>"
   ]
  },
  {
   "cell_type": "code",
   "execution_count": 4,
   "id": "325299d5",
   "metadata": {},
   "outputs": [
    {
     "name": "stdin",
     "output_type": "stream",
     "text": [
      " 5 mammad 8\n"
     ]
    },
    {
     "name": "stdout",
     "output_type": "stream",
     "text": [
      "only numbers are allowed\n"
     ]
    }
   ],
   "source": [
    "try:\n",
    "    numbers = [int(x) for x in input().split()]\n",
    "    print(\"max: {}, min: {}\".format(max(numbers), min(numbers)))\n",
    "except ValueError:\n",
    "    print(\"only numbers are allowed\")"
   ]
  },
  {
   "cell_type": "markdown",
   "id": "2219c01f",
   "metadata": {},
   "source": [
    "<div id=\"section1\" dir='rtl'>\n",
    "    تمرین دوم: ابتدا یک عدد صحیح از کاربر دریافت کنید سپس یک لیست عدد اعشاری به طول عدد قبلی، از کاربر دریافت کنید سپس میانگین و مد مقادیر لیست را چاپ کنید.\n",
    "    \n",
    "    توجه: کاربر اجازه وارد کردن چیزی جز عدد را نداشته باشد.    \n",
    "</div>"
   ]
  },
  {
   "cell_type": "code",
   "execution_count": 81,
   "id": "529c1917",
   "metadata": {},
   "outputs": [
    {
     "name": "stdin",
     "output_type": "stream",
     "text": [
      " 5\n",
      " 3 -2 -2 0 5\n"
     ]
    },
    {
     "name": "stdout",
     "output_type": "stream",
     "text": [
      "average: 0.8, mode: -2.0\n"
     ]
    }
   ],
   "source": [
    "try:\n",
    "    n = int(input())\n",
    "    numbers = [float(x) for x in input().split()]\n",
    "    count = {}\n",
    "\n",
    "    for i in range(n):\n",
    "        if numbers[i] in count:\n",
    "            count[numbers[i]] += 1\n",
    "        else:\n",
    "            count[numbers[i]] = 1\n",
    "\n",
    "    print(\"average: {}, mode: {}\".format(sum(numbers)/n, max(count, key=count.get)))\n",
    "except ValueError:\n",
    "    print(\"only numbers are allowed\")"
   ]
  },
  {
   "cell_type": "markdown",
   "id": "20d3d319",
   "metadata": {},
   "source": [
    "<div id=\"section1\" dir='rtl'>\n",
    "    تمرین سوم: برنامه ای بنویسید تا یک کلمه انگلیسی را از کاربر دریافت کند و کاراکترهایی را که صدادار هستند نمایش دهد.\n",
    "    \n",
    "    توجه: باید بررسی شود که داخل کلمه، عدد نباشد.\n",
    "</div>"
   ]
  },
  {
   "cell_type": "code",
   "execution_count": 9,
   "id": "f08335cd",
   "metadata": {},
   "outputs": [
    {
     "name": "stdin",
     "output_type": "stream",
     "text": [
      " amirho3ein\n"
     ]
    },
    {
     "name": "stdout",
     "output_type": "stream",
     "text": [
      "word should not contain any digits\n"
     ]
    }
   ],
   "source": [
    "vowels = ['a', 'A', 'e', 'E', 'i', 'I', 'o', 'O', 'u', 'U']\n",
    "output, word = '', input()\n",
    "\n",
    "for ch in word:\n",
    "    if ch.isdigit():\n",
    "        output = \"word should not contain any digits\"\n",
    "        break\n",
    "    elif ch in vowels:\n",
    "        output += ch\n",
    "print(output)"
   ]
  },
  {
   "cell_type": "markdown",
   "id": "4f32eed6",
   "metadata": {},
   "source": [
    "<div id=\"section1\" dir='rtl'>\n",
    " تمرین چهارم: یک تابع بنویسید که یک رشته دریافت کند وبررسی کند که آیا  کاراکتر اول و آخر یکسان هستند یا خیر. \n",
    "</div>"
   ]
  },
  {
   "cell_type": "code",
   "execution_count": 13,
   "id": "c409d4c4",
   "metadata": {},
   "outputs": [
    {
     "data": {
      "text/plain": [
       "True"
      ]
     },
     "execution_count": 13,
     "metadata": {},
     "output_type": "execute_result"
    }
   ],
   "source": [
    "def first_is_last(objective):\n",
    "    return objective[0] == objective[-1]\n",
    "first_is_last('test')"
   ]
  },
  {
   "cell_type": "markdown",
   "id": "e72fd304",
   "metadata": {},
   "source": [
    "<div id=\"section1\" dir='rtl'>\n",
    " تمرین پنجم: یک تابع بنویسید که دو رشته دریافت کند و بررسی کند که چند بار رشته دوم در رشته اول تکرار شده است. \n",
    "</div>"
   ]
  },
  {
   "cell_type": "code",
   "execution_count": 16,
   "id": "5865eb1f",
   "metadata": {},
   "outputs": [
    {
     "data": {
      "text/plain": [
       "2"
      ]
     },
     "execution_count": 16,
     "metadata": {},
     "output_type": "execute_result"
    }
   ],
   "source": [
    "def count_find(main_str, child_str):\n",
    "    count = 0\n",
    "    for i in range(len(main_str)):\n",
    "        if main_str[i:].startswith(child_str):\n",
    "            count += 1\n",
    "    return count\n",
    "count_find(\"bababa\", \"bab\")"
   ]
  },
  {
   "cell_type": "markdown",
   "id": "48af5d8d",
   "metadata": {},
   "source": [
    "<div id=\"section1\" dir='rtl'>\n",
    " تمرین ششم: یک تابع بنویسید که یک عدد صحیح دریافت کند و بررسی کند که آیا  آن عدد با وارون خود برابر است یا خیر مثل عدد 121 \n",
    "</div>"
   ]
  },
  {
   "cell_type": "code",
   "execution_count": 33,
   "id": "6bc58d57",
   "metadata": {},
   "outputs": [
    {
     "data": {
      "text/plain": [
       "True"
      ]
     },
     "execution_count": 33,
     "metadata": {},
     "output_type": "execute_result"
    }
   ],
   "source": [
    "def is_classic_palindrome(number): # With respect to Erfan Alimohammadi :D\n",
    "    output, temp = 0, number\n",
    "    while temp>0:\n",
    "        output = output*10 + (temp%10)\n",
    "        temp //= 10\n",
    "    return output == number\n",
    "is_classic_palindrome(121)"
   ]
  },
  {
   "cell_type": "markdown",
   "id": "bfc0f0c2",
   "metadata": {},
   "source": [
    "<div id=\"section1\" dir='rtl'>\n",
    " تمرین هفتم: برنامه ای بنویسید که به کمک حلقه و شرط، خروجی زیر را تولید کند.\n",
    "</div>\n",
    "\n",
    "1 \n",
    "\n",
    "2 2\n",
    "\n",
    "3 3 3 \n",
    "\n",
    "4 4 4 4 \n",
    "\n",
    "5 5 5 5 5\n",
    "\n",
    "4 4 4 4 \n",
    "\n",
    "3 3 3 \n",
    "\n",
    "2 2\n",
    "\n",
    "1"
   ]
  },
  {
   "cell_type": "code",
   "execution_count": 49,
   "id": "c8b6f9a8",
   "metadata": {},
   "outputs": [
    {
     "name": "stdout",
     "output_type": "stream",
     "text": [
      "1\n",
      "2 2\n",
      "3 3 3\n",
      "4 4 4 4\n",
      "5 5 5 5 5\n",
      "4 4 4 4\n",
      "3 3 3\n",
      "2 2\n",
      "1\n"
     ]
    }
   ],
   "source": [
    "def print_shape(width):\n",
    "    for line in range(2*width-1):\n",
    "        if line < width:\n",
    "            print(' '.join(str(line+1)*(line+1)))\n",
    "        else:\n",
    "            print(' '.join(str(2*width-1-line)*(2*width-1-line)))\n",
    "print_shape(5)"
   ]
  },
  {
   "cell_type": "markdown",
   "id": "6bc9367f",
   "metadata": {},
   "source": [
    "<div id=\"section1\" dir='rtl'>\n",
    " تمرین هشتم: برنامه ای بنویسید که به کمک حلقه و شرط، خروجی زیر را تولید کند.\n",
    "</div>"
   ]
  },
  {
   "cell_type": "code",
   "execution_count": 2,
   "id": "d19bd529",
   "metadata": {},
   "outputs": [
    {
     "name": "stdout",
     "output_type": "stream",
     "text": [
      "    \n",
      "    *\n",
      "  * # \n",
      "* # $ # *\n",
      "    # *\n",
      "    *\n",
      "    \n"
     ]
    }
   ],
   "source": [
    "print('''    \n",
    "    *\n",
    "  * # \n",
    "* # $ # *\n",
    "    # *\n",
    "    *\n",
    "    ''')"
   ]
  },
  {
   "cell_type": "code",
   "execution_count": 77,
   "id": "395d8bdf",
   "metadata": {},
   "outputs": [
    {
     "name": "stdout",
     "output_type": "stream",
     "text": [
      "    *     \n",
      "  * #     \n",
      "* # $ # * \n",
      "    # *   \n",
      "    *     \n"
     ]
    }
   ],
   "source": [
    "for i in range(5):\n",
    "    for j in range(5):\n",
    "        if i == 2 and j == 2:\n",
    "            print('$', end='')\n",
    "        elif i+j == 2 or i+j == 6:\n",
    "            print('*', end='')\n",
    "        elif (i+j == 3 or i+j == 5) \\\n",
    "                and (i != 0 and j != 0)\\\n",
    "                and (i != 4 and j != 4):\n",
    "            print('#', end='')\n",
    "        else:\n",
    "            print(' ', end='')\n",
    "        print(' ', end='')\n",
    "        \n",
    "    print('')"
   ]
  },
  {
   "cell_type": "markdown",
   "id": "6bab36dd",
   "metadata": {},
   "source": [
    "<div id=\"section1\" dir='rtl'>\n",
    " تمرین نهم: تابعی بنویسید که یک عدد دهدهی بگیرد و مبنای سه آن را نمایش دهد.\n",
    "        مثل دریافت عدد 12 و نمایش 110\n",
    "</div>"
   ]
  },
  {
   "cell_type": "code",
   "execution_count": 42,
   "id": "27d40cb3",
   "metadata": {},
   "outputs": [
    {
     "data": {
      "text/plain": [
       "110"
      ]
     },
     "execution_count": 42,
     "metadata": {},
     "output_type": "execute_result"
    }
   ],
   "source": [
    "def to_base3_rec(number):\n",
    "    if number < 3:\n",
    "        return number\n",
    "    return number%3 + 10*to_base3_rec(number//3)\n",
    "to_base3_rec(12)"
   ]
  },
  {
   "cell_type": "markdown",
   "id": "d56e5d50",
   "metadata": {},
   "source": [
    "<div id=\"section1\" dir='rtl'>\n",
    " تمرین دهم: تابعی بنویسید که سه رقم غیرتکراری از کاربر گرفته و تمامی اعداد زوج و غیرتکراری 5 رقمی\n",
    "        .که با سه رقم دریافت شده می توان ساخت را نمایش دهد\n",
    "</div>"
   ]
  },
  {
   "cell_type": "code",
   "execution_count": 7,
   "id": "345b6de9",
   "metadata": {},
   "outputs": [],
   "source": [
    "def generate_number(digits, remain=5, idx=0, number=0):\n",
    "    if digits[idx] % 2 == 0:\n",
    "        number = "
   ]
  },
  {
   "cell_type": "code",
   "execution_count": 8,
   "id": "af0ebf1e-b377-4375-a381-4a76ad1452d1",
   "metadata": {},
   "outputs": [
    {
     "name": "stdout",
     "output_type": "stream",
     "text": [
      "1\n",
      "2\n",
      "3\n"
     ]
    },
    {
     "ename": "TypeError",
     "evalue": "unsupported operand type(s) for *: 'int' and 'NoneType'",
     "output_type": "error",
     "traceback": [
      "\u001b[0;31m---------------------------------------------------------------------------\u001b[0m",
      "\u001b[0;31mTypeError\u001b[0m                                 Traceback (most recent call last)",
      "\u001b[0;32m/tmp/ipykernel_764830/373993295.py\u001b[0m in \u001b[0;36m<module>\u001b[0;34m\u001b[0m\n\u001b[0;32m----> 1\u001b[0;31m \u001b[0mgenerate_number\u001b[0m\u001b[0;34m(\u001b[0m\u001b[0;34m[\u001b[0m\u001b[0;36m1\u001b[0m\u001b[0;34m,\u001b[0m \u001b[0;36m2\u001b[0m\u001b[0;34m,\u001b[0m \u001b[0;36m3\u001b[0m\u001b[0;34m]\u001b[0m\u001b[0;34m)\u001b[0m\u001b[0;34m\u001b[0m\u001b[0;34m\u001b[0m\u001b[0m\n\u001b[0m",
      "\u001b[0;32m/tmp/ipykernel_764830/4132066854.py\u001b[0m in \u001b[0;36mgenerate_number\u001b[0;34m(digits, remain)\u001b[0m\n\u001b[1;32m      5\u001b[0m     \u001b[0;32melse\u001b[0m\u001b[0;34m:\u001b[0m\u001b[0;34m\u001b[0m\u001b[0;34m\u001b[0m\u001b[0m\n\u001b[1;32m      6\u001b[0m         \u001b[0;32mfor\u001b[0m \u001b[0md\u001b[0m \u001b[0;32min\u001b[0m \u001b[0mdigits\u001b[0m\u001b[0;34m:\u001b[0m\u001b[0;34m\u001b[0m\u001b[0;34m\u001b[0m\u001b[0m\n\u001b[0;32m----> 7\u001b[0;31m             \u001b[0mx\u001b[0m \u001b[0;34m=\u001b[0m \u001b[0md\u001b[0m \u001b[0;34m+\u001b[0m \u001b[0;36m10\u001b[0m\u001b[0;34m*\u001b[0m\u001b[0mgenerate_number\u001b[0m\u001b[0;34m(\u001b[0m\u001b[0mdigits\u001b[0m\u001b[0;34m,\u001b[0m \u001b[0mremain\u001b[0m\u001b[0;34m-\u001b[0m\u001b[0;36m1\u001b[0m\u001b[0;34m)\u001b[0m\u001b[0;34m\u001b[0m\u001b[0;34m\u001b[0m\u001b[0m\n\u001b[0m\u001b[1;32m      8\u001b[0m             \u001b[0mprint\u001b[0m\u001b[0;34m(\u001b[0m\u001b[0mx\u001b[0m\u001b[0;34m)\u001b[0m\u001b[0;34m\u001b[0m\u001b[0;34m\u001b[0m\u001b[0m\n",
      "\u001b[0;32m/tmp/ipykernel_764830/4132066854.py\u001b[0m in \u001b[0;36mgenerate_number\u001b[0;34m(digits, remain)\u001b[0m\n\u001b[1;32m      5\u001b[0m     \u001b[0;32melse\u001b[0m\u001b[0;34m:\u001b[0m\u001b[0;34m\u001b[0m\u001b[0;34m\u001b[0m\u001b[0m\n\u001b[1;32m      6\u001b[0m         \u001b[0;32mfor\u001b[0m \u001b[0md\u001b[0m \u001b[0;32min\u001b[0m \u001b[0mdigits\u001b[0m\u001b[0;34m:\u001b[0m\u001b[0;34m\u001b[0m\u001b[0;34m\u001b[0m\u001b[0m\n\u001b[0;32m----> 7\u001b[0;31m             \u001b[0mx\u001b[0m \u001b[0;34m=\u001b[0m \u001b[0md\u001b[0m \u001b[0;34m+\u001b[0m \u001b[0;36m10\u001b[0m\u001b[0;34m*\u001b[0m\u001b[0mgenerate_number\u001b[0m\u001b[0;34m(\u001b[0m\u001b[0mdigits\u001b[0m\u001b[0;34m,\u001b[0m \u001b[0mremain\u001b[0m\u001b[0;34m-\u001b[0m\u001b[0;36m1\u001b[0m\u001b[0;34m)\u001b[0m\u001b[0;34m\u001b[0m\u001b[0;34m\u001b[0m\u001b[0m\n\u001b[0m\u001b[1;32m      8\u001b[0m             \u001b[0mprint\u001b[0m\u001b[0;34m(\u001b[0m\u001b[0mx\u001b[0m\u001b[0;34m)\u001b[0m\u001b[0;34m\u001b[0m\u001b[0;34m\u001b[0m\u001b[0m\n",
      "\u001b[0;32m/tmp/ipykernel_764830/4132066854.py\u001b[0m in \u001b[0;36mgenerate_number\u001b[0;34m(digits, remain)\u001b[0m\n\u001b[1;32m      5\u001b[0m     \u001b[0;32melse\u001b[0m\u001b[0;34m:\u001b[0m\u001b[0;34m\u001b[0m\u001b[0;34m\u001b[0m\u001b[0m\n\u001b[1;32m      6\u001b[0m         \u001b[0;32mfor\u001b[0m \u001b[0md\u001b[0m \u001b[0;32min\u001b[0m \u001b[0mdigits\u001b[0m\u001b[0;34m:\u001b[0m\u001b[0;34m\u001b[0m\u001b[0;34m\u001b[0m\u001b[0m\n\u001b[0;32m----> 7\u001b[0;31m             \u001b[0mx\u001b[0m \u001b[0;34m=\u001b[0m \u001b[0md\u001b[0m \u001b[0;34m+\u001b[0m \u001b[0;36m10\u001b[0m\u001b[0;34m*\u001b[0m\u001b[0mgenerate_number\u001b[0m\u001b[0;34m(\u001b[0m\u001b[0mdigits\u001b[0m\u001b[0;34m,\u001b[0m \u001b[0mremain\u001b[0m\u001b[0;34m-\u001b[0m\u001b[0;36m1\u001b[0m\u001b[0;34m)\u001b[0m\u001b[0;34m\u001b[0m\u001b[0;34m\u001b[0m\u001b[0m\n\u001b[0m\u001b[1;32m      8\u001b[0m             \u001b[0mprint\u001b[0m\u001b[0;34m(\u001b[0m\u001b[0mx\u001b[0m\u001b[0;34m)\u001b[0m\u001b[0;34m\u001b[0m\u001b[0;34m\u001b[0m\u001b[0m\n",
      "\u001b[0;32m/tmp/ipykernel_764830/4132066854.py\u001b[0m in \u001b[0;36mgenerate_number\u001b[0;34m(digits, remain)\u001b[0m\n\u001b[1;32m      5\u001b[0m     \u001b[0;32melse\u001b[0m\u001b[0;34m:\u001b[0m\u001b[0;34m\u001b[0m\u001b[0;34m\u001b[0m\u001b[0m\n\u001b[1;32m      6\u001b[0m         \u001b[0;32mfor\u001b[0m \u001b[0md\u001b[0m \u001b[0;32min\u001b[0m \u001b[0mdigits\u001b[0m\u001b[0;34m:\u001b[0m\u001b[0;34m\u001b[0m\u001b[0;34m\u001b[0m\u001b[0m\n\u001b[0;32m----> 7\u001b[0;31m             \u001b[0mx\u001b[0m \u001b[0;34m=\u001b[0m \u001b[0md\u001b[0m \u001b[0;34m+\u001b[0m \u001b[0;36m10\u001b[0m\u001b[0;34m*\u001b[0m\u001b[0mgenerate_number\u001b[0m\u001b[0;34m(\u001b[0m\u001b[0mdigits\u001b[0m\u001b[0;34m,\u001b[0m \u001b[0mremain\u001b[0m\u001b[0;34m-\u001b[0m\u001b[0;36m1\u001b[0m\u001b[0;34m)\u001b[0m\u001b[0;34m\u001b[0m\u001b[0;34m\u001b[0m\u001b[0m\n\u001b[0m\u001b[1;32m      8\u001b[0m             \u001b[0mprint\u001b[0m\u001b[0;34m(\u001b[0m\u001b[0mx\u001b[0m\u001b[0;34m)\u001b[0m\u001b[0;34m\u001b[0m\u001b[0;34m\u001b[0m\u001b[0m\n",
      "\u001b[0;31mTypeError\u001b[0m: unsupported operand type(s) for *: 'int' and 'NoneType'"
     ]
    }
   ],
   "source": [
    "generate_number([1, 2, 3])"
   ]
  },
  {
   "cell_type": "code",
   "execution_count": null,
   "id": "965be81f-d09c-48a2-b088-629e4164ea93",
   "metadata": {},
   "outputs": [],
   "source": []
  }
 ],
 "metadata": {
  "kernelspec": {
   "display_name": "Python 3 (ipykernel)",
   "language": "python",
   "name": "python3"
  },
  "language_info": {
   "codemirror_mode": {
    "name": "ipython",
    "version": 3
   },
   "file_extension": ".py",
   "mimetype": "text/x-python",
   "name": "python",
   "nbconvert_exporter": "python",
   "pygments_lexer": "ipython3",
   "version": "3.8.10"
  }
 },
 "nbformat": 4,
 "nbformat_minor": 5
}
