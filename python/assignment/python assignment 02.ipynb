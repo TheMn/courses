{
 "cells": [
  {
   "cell_type": "markdown",
   "id": "ccf474e7",
   "metadata": {},
   "source": [
    "# data-hub:\n",
    "\n",
    "*   [Website](https://data-hub.ir/)\n",
    "*   [Youtube](https://www.youtube.com/channel/UCrBcbQWcD0ortWqHAlP94ug)\n",
    "*   [Github](https://github.com/datahub-ir)\n",
    "*   [Linkedin](https://www.linkedin.com/company/data-hub-ir)\n",
    "*   Telegram Channel: @**data_hub_ir**\n",
    "*   Instagram Page: @**data_hub_ir**\n",
    "*   Telegram Group:    @**data_jobs**"
   ]
  },
  {
   "cell_type": "markdown",
   "id": "0e12574a",
   "metadata": {},
   "source": [
    "<div id=\"section1\"   dir='rtl'>\n",
    "    <h3>\n",
    "تمرین جلسه دوم دوره پایتون    </h3>\n",
    "<p dir='rtl'>\n",
    "    \n",
    "    1. معمولا سؤالات از آسان به سخت و اغلب تحلیلی هستند.  \n",
    "\n",
    "    2. در حد امکان لطفاً برای حل سؤالات از اینترنت (کپی و پیست) استفاده نکنید، لطفاً از دیگران کمک نگیرید.\n",
    "\n",
    "    3. حل ناقص یک سؤال برای ما ارزش بیشتری نسبت به تکمیل سؤال به کمک دیگران دارد. هدف یادگیری است و بحث نمره مطرح نیست.\n",
    "\n",
    "    4. مهم‌ترین قسمت حل سؤالات تمرکز و توجه به راه‌حل مسئله و پیداکردن بهینه‌ترین روش است نه قسمت کدنویسی آن.\n",
    "\n",
    "    5. انجام تکالیف ضروری است ولی فعلاً نیازی به ارسال جواب‌ها نیست. در آخر دوره کارآموزی و پس از اتمام پروژه نهایی، باید تمامی فایل‌های مربوط به تکالیف و پروژه را برایمان ارسال کنید.\n",
    "\n",
    "    6. در جلسه آنلاین به‌صورت تصادفی بعضی از سؤالات تمرین ممکن است پرسیده شود پس بادقت به حل آن بپردازید.\n",
    "\n",
    "    7. از الان تلاش کنید مرتب کدنویسی کنید. اسامی متغیرها را معنادار انتخاب کنید. تمیزی کد شما، نشان از حرفه‌ای بودن شماست.\n",
    "\n",
    "    8. تحت هیچ شرایط جواب خود را برای دیگران ارسال نکنید.\n",
    "\n",
    "    9. در صورت ناتوانی از حل هر سؤال و قبل از پرسش از دیگران، لطفاً به ویدئو همان جلسه مراجعه کنید و مطالب را مرور کنید.\n",
    "\n",
    "    10. در صورت وجود ابهام یا سؤال در مورد هر قسمت لطفاً به فروم وب‌سایت  مراجعه کنید و در انجمن مربوطه، سؤالات خود را مطرح کنید.\n",
    "    \n",
    "</p>\n",
    "</div>\n",
    "\n",
    "https://data-hub.ir/community"
   ]
  },
  {
   "cell_type": "markdown",
   "id": "e716d0fa",
   "metadata": {},
   "source": [
    "<div id=\"section1\" dir='rtl'>\n",
    "تمرین اول: ابتدا یک لیست حداقل 5 عضوی از کاربر گرفته و بررسی شود جمع دومین ماکسیمم لیست و سومین مینمم از میانگین بیشتر است یا خیر.\n",
    "    \n",
    "    توجه: کاربر اجازه وارد کردن چیزی جز عدد را نداشته باشد\n",
    "</div>"
   ]
  },
  {
   "cell_type": "code",
   "execution_count": 7,
   "id": "325299d5",
   "metadata": {},
   "outputs": [
    {
     "name": "stdin",
     "output_type": "stream",
     "text": [
      " 4 2 5 3 1\n"
     ]
    },
    {
     "name": "stdout",
     "output_type": "stream",
     "text": [
      "NO\n"
     ]
    }
   ],
   "source": [
    "try:\n",
    "    numbers = sorted([int(x) for x in input().split()])\n",
    "    average = sum(numbers)/len(numbers)\n",
    "    if len(numbers) < 5:\n",
    "        print(\"array is too short\")\n",
    "    if numbers[-2] > average and numbers[2] > average:\n",
    "        print('Yes')\n",
    "    else:\n",
    "        print('NO')\n",
    "except ValueError:\n",
    "    print(\"only numbers are allowed\")"
   ]
  },
  {
   "cell_type": "markdown",
   "id": "2219c01f",
   "metadata": {},
   "source": [
    "<div id=\"section1\" dir='rtl'>\n",
    "    تمرین دوم: تمام حروف، ارقام و نمادهای خاص را از یک رشته مشخص بشمارید\n",
    "    \n",
    "    مثل:\"P@#yn26at^&i5ve\" \n",
    "    \n",
    "</div>"
   ]
  },
  {
   "cell_type": "code",
   "execution_count": 9,
   "id": "529c1917",
   "metadata": {},
   "outputs": [
    {
     "name": "stdin",
     "output_type": "stream",
     "text": [
      " salam:)\n"
     ]
    },
    {
     "data": {
      "text/plain": [
       "{'s': 1, 'a': 2, 'l': 1, 'm': 1, ':': 1, ')': 1}"
      ]
     },
     "execution_count": 9,
     "metadata": {},
     "output_type": "execute_result"
    }
   ],
   "source": [
    "specific_str = input()\n",
    "chars_dict = {}\n",
    "for ch in specific_str:\n",
    "    if ch in chars_dict:\n",
    "        chars_dict[ch] += 1\n",
    "    else:\n",
    "        chars_dict[ch] = 1\n",
    "chars_dict"
   ]
  },
  {
   "cell_type": "markdown",
   "id": "20d3d319",
   "metadata": {},
   "source": [
    "<div id=\"section1\" dir='rtl'>\n",
    "تمرین سوم: یک لیست از کلمات فارسی گرفته و به ترتیب حروف الفبا مرتب کنید.\n",
    "    \n",
    "</div>"
   ]
  },
  {
   "cell_type": "code",
   "execution_count": 10,
   "id": "f08335cd",
   "metadata": {},
   "outputs": [
    {
     "name": "stdin",
     "output_type": "stream",
     "text": [
      " علی احمد مجید آقا یحیی یحیا\n"
     ]
    },
    {
     "data": {
      "text/plain": [
       "['آقا', 'احمد', 'علی', 'مجید', 'یحیا', 'یحیی']"
      ]
     },
     "execution_count": 10,
     "metadata": {},
     "output_type": "execute_result"
    }
   ],
   "source": [
    "words = sorted(input().split())\n",
    "words"
   ]
  },
  {
   "cell_type": "code",
   "execution_count": 11,
   "id": "704d9eb8-9570-4a41-880d-c1c7ec8b4e48",
   "metadata": {},
   "outputs": [
    {
     "data": {
      "text/plain": [
       "'آقا'"
      ]
     },
     "execution_count": 11,
     "metadata": {},
     "output_type": "execute_result"
    }
   ],
   "source": [
    "words[0]"
   ]
  },
  {
   "cell_type": "markdown",
   "id": "4f32eed6",
   "metadata": {},
   "source": [
    "<div id=\"section1\" dir='rtl'>\n",
    "تمرین چهارم: رشته های خالی را از لیستی از رشته ها حذف کنید.\n",
    "    \n",
    "    مثل: [\"Emma\", \"Jon\", \"\", \"Kelly\", None, \"Eric\", \"\"]\n",
    "</div>"
   ]
  },
  {
   "cell_type": "code",
   "execution_count": 16,
   "id": "c409d4c4",
   "metadata": {},
   "outputs": [
    {
     "data": {
      "text/plain": [
       "['Emma', 'Jon', 'Kelly', 'Eric']"
      ]
     },
     "execution_count": 16,
     "metadata": {},
     "output_type": "execute_result"
    }
   ],
   "source": [
    "with_empty = [\"Emma\", \"Jon\", \"\", \"Kelly\", None, \"Eric\", \"\"]\n",
    "without_empty = [x for x in with_empty if x]\n",
    "without_empty"
   ]
  },
  {
   "cell_type": "markdown",
   "id": "e72fd304",
   "metadata": {},
   "source": [
    "<div id=\"section1\" dir='rtl'>\n",
    " تمرین پنجم: یک تابع بنویسید که یک عدد صحیح دریافت کرده و یک رمز قوی  به طول عدد دریافت شده بسازد. حتما باید داخل رمز حداقل یک کاراکتر بزرگ و کوچک و عدد باشد. \n",
    "</div>"
   ]
  },
  {
   "cell_type": "code",
   "execution_count": 22,
   "id": "5865eb1f",
   "metadata": {},
   "outputs": [
    {
     "data": {
      "text/plain": [
       "'sAs88Bb'"
      ]
     },
     "execution_count": 22,
     "metadata": {},
     "output_type": "execute_result"
    }
   ],
   "source": [
    "import random\n",
    "def generate_pass(length):\n",
    "    output = ''\n",
    "    chars = [\"abcdefghijklmnopqrstuvwxyz\", \"ABCDEFGHIJKLMNOPQRSTUVWXYZ\", \"1234567890\"]\n",
    "    for i in range(length):\n",
    "        if i < 3:\n",
    "            output += random.choice(chars[i])\n",
    "        else:\n",
    "            output += random.choice(''.join(chars))\n",
    "    return ''.join(random.sample(output, len(output)))\n",
    "generate_pass(7)"
   ]
  },
  {
   "cell_type": "markdown",
   "id": "48af5d8d",
   "metadata": {},
   "source": [
    "<div id=\"section1\" dir='rtl'>\n",
    " تمرین ششم: یک تابع بنویسید که یک عدد صحیح دریافت کند و بررسی کند که آیا  آن عدد با وارون خود برابر است یا خیر مثل عدد 121 \n",
    "</div>"
   ]
  },
  {
   "cell_type": "code",
   "execution_count": 23,
   "id": "6bc58d57",
   "metadata": {},
   "outputs": [
    {
     "data": {
      "text/plain": [
       "False"
      ]
     },
     "execution_count": 23,
     "metadata": {},
     "output_type": "execute_result"
    }
   ],
   "source": [
    "def is_classic_palindrome(number): # Tekrari bud ke!\n",
    "    output, temp = 0, number\n",
    "    while temp>0:\n",
    "        output = output*10 + (temp%10)\n",
    "        temp //= 10\n",
    "    return output == number\n",
    "is_classic_palindrome(12)"
   ]
  },
  {
   "cell_type": "markdown",
   "id": "bfc0f0c2",
   "metadata": {},
   "source": [
    "<div id=\"section1\" dir='rtl'>\n",
    " تمرین هفتم: تابعی بنویسد که یک لیست عدد صحیح گرفته و ترتیب درایه ها به طور تصادفی بهم بریزد.\n",
    "</div>"
   ]
  },
  {
   "cell_type": "code",
   "execution_count": 28,
   "id": "c8b6f9a8",
   "metadata": {},
   "outputs": [
    {
     "data": {
      "text/plain": [
       "[5, 1, 10, 18, -2]"
      ]
     },
     "execution_count": 28,
     "metadata": {},
     "output_type": "execute_result"
    }
   ],
   "source": [
    "def random_shuffle(numbers):\n",
    "    return random.sample(numbers, len(numbers))\n",
    "random_shuffle([1, 18, -2, 5, 10])"
   ]
  },
  {
   "cell_type": "markdown",
   "id": "6bc9367f",
   "metadata": {},
   "source": [
    "<div id=\"section1\" dir='rtl'>\n",
    " تمرین هشتم: تابعی بنویسید که یک آرایه دو بعدی دلخواه از اعداد صحیح گرفته و به حاشیه آن صفر اضافه کند.\n",
    "    \n",
    "</div>\n",
    "\n",
    "[1 2]\n",
    "\n",
    "[4 3]\n",
    "\n",
    "--\n",
    "\n",
    "\n",
    "[0 0 0 0]\n",
    "\n",
    "[0 1 2 0]\n",
    "\n",
    "[0 4 3 0]\n",
    "\n",
    "[0 0 0 0]"
   ]
  },
  {
   "cell_type": "code",
   "execution_count": 25,
   "id": "395d8bdf",
   "metadata": {},
   "outputs": [],
   "source": [
    "def add_border(arr, sz=4):\n",
    "    res = [[0]*4 for i in range(4)]\n",
    "    for i in range(sz):\n",
    "        for j in range(sz):\n",
    "            if i == 0 or i == sz-1 or j == 0 or j == sz-1:\n",
    "                res[i][j] = 0\n",
    "            else:\n",
    "                res[i][j] = arr[i-1][j-1]\n",
    "    return res"
   ]
  },
  {
   "cell_type": "code",
   "execution_count": 26,
   "id": "69093218-8330-49ab-8292-4249ca51f42b",
   "metadata": {},
   "outputs": [
    {
     "data": {
      "text/plain": [
       "[[0, 0, 0, 0], [0, 1, 2, 0], [0, 3, 4, 0], [0, 0, 0, 0]]"
      ]
     },
     "execution_count": 26,
     "metadata": {},
     "output_type": "execute_result"
    }
   ],
   "source": [
    "add_border([[1, 2], [3, 4]])"
   ]
  },
  {
   "cell_type": "markdown",
   "id": "6bab36dd",
   "metadata": {},
   "source": [
    "<div id=\"section1\" dir='rtl'>\n",
    " تمرین نهم: یک تابع بنویسید که یک متن فارسی دریافت کرده و مهم ترین کلمه داخل متن پیدا کرده و نمایش دهد.\n",
    "    (راهنمایی: براساس تکرار کلمات)\n",
    "</div>"
   ]
  },
  {
   "cell_type": "code",
   "execution_count": 3,
   "id": "27d40cb3",
   "metadata": {},
   "outputs": [
    {
     "name": "stdin",
     "output_type": "stream",
     "text": [
      "  سلام به همه کسایی که به این متن که به زیاد داره توجه به سزایی کردن\n"
     ]
    },
    {
     "name": "stdout",
     "output_type": "stream",
     "text": [
      "\" به \"\n"
     ]
    }
   ],
   "source": [
    "sentence = input()\n",
    "recurrence = {}\n",
    "for word in sentence.split():\n",
    "    if word in recurrence:\n",
    "        recurrence[word] += 1\n",
    "    else:\n",
    "        recurrence[word] = 1\n",
    "print('\\\"', max(recurrence, key=recurrence.get), '\\\"')"
   ]
  },
  {
   "cell_type": "markdown",
   "id": "d56e5d50",
   "metadata": {},
   "source": [
    "<div id=\"section1\" dir='rtl'>\n",
    " تمرین دهم: ابتدا فکر کرده و سپس یک تابع مفید و کاربردی از نظر خودتان \n",
    "    پیاده سازی کنید.\n",
    "</div>"
   ]
  },
  {
   "cell_type": "code",
   "execution_count": 39,
   "id": "345b6de9",
   "metadata": {},
   "outputs": [],
   "source": [
    "import datetime\n",
    "\n",
    "def record_log(something):\n",
    "    with open('log-file.txt', 'a') as file:\n",
    "        file.write(str(datetime.datetime.now()) + ', ' + something + '\\n')\n",
    "\n",
    "record_log('test')"
   ]
  }
 ],
 "metadata": {
  "kernelspec": {
   "display_name": "Python 3 (ipykernel)",
   "language": "python",
   "name": "python3"
  },
  "language_info": {
   "codemirror_mode": {
    "name": "ipython",
    "version": 3
   },
   "file_extension": ".py",
   "mimetype": "text/x-python",
   "name": "python",
   "nbconvert_exporter": "python",
   "pygments_lexer": "ipython3",
   "version": "3.8.10"
  }
 },
 "nbformat": 4,
 "nbformat_minor": 5
}
